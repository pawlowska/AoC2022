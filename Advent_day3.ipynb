{
 "cells": [
  {
   "cell_type": "code",
   "execution_count": 35,
   "id": "886e7d16",
   "metadata": {},
   "outputs": [],
   "source": [
    "with open('day3_input.txt') as f:\n",
    "    lines=f.readlines()"
   ]
  },
  {
   "cell_type": "code",
   "execution_count": 31,
   "id": "5dca18d3",
   "metadata": {},
   "outputs": [],
   "source": [
    "def szukaj_duplikatu(l): \n",
    "    k=len(l)//2 #I'll be comparing first and second half of string\n",
    "    j=0\n",
    "    rzecz=\"\"\n",
    "    while(j<k and rzecz==\"\"):\n",
    "        i=0\n",
    "        r=l[j]\n",
    "        while(i<k and rzecz==\"\"):\n",
    "            if (r==l[k+i]):\n",
    "                rzecz=r\n",
    "            else:\n",
    "                i=i+1\n",
    "        j=j+1\n",
    "    return(rzecz)\n",
    "\n",
    "def priorytet(c):\n",
    "    if(ord(c) in range(ord('a'), ord('z')+1)):\n",
    "       return ord(c)+1-ord('a')\n",
    "    elif(ord(c) in range(ord('A'), ord('Z')+1)):\n",
    "       return ord(c)+27-ord('A')\n",
    "    else:\n",
    "       return -1\n",
    " "
   ]
  },
  {
   "cell_type": "code",
   "execution_count": 36,
   "id": "62047ee0",
   "metadata": {},
   "outputs": [
    {
     "name": "stdout",
     "output_type": "stream",
     "text": [
      "8085\n"
     ]
    }
   ],
   "source": [
    "rzeczy=[szukaj_duplikatu(l) for l in lines]\n",
    "punkty=[priorytet(r) for r in rzeczy]\n",
    "print(sum(punkty))"
   ]
  },
  {
   "cell_type": "code",
   "execution_count": 37,
   "id": "b78328fc",
   "metadata": {},
   "outputs": [
    {
     "name": "stdout",
     "output_type": "stream",
     "text": [
      "{'v', 'P', '\\n', 'j', 'V', 'D', 'G', 'f', 't', 'c', 'B', 'r'}\n"
     ]
    }
   ],
   "source": [
    "print(set(lines[0]))"
   ]
  }
 ],
 "metadata": {
  "kernelspec": {
   "display_name": "Python 3 (ipykernel)",
   "language": "python",
   "name": "python3"
  },
  "language_info": {
   "codemirror_mode": {
    "name": "ipython",
    "version": 3
   },
   "file_extension": ".py",
   "mimetype": "text/x-python",
   "name": "python",
   "nbconvert_exporter": "python",
   "pygments_lexer": "ipython3",
   "version": "3.9.12"
  }
 },
 "nbformat": 4,
 "nbformat_minor": 5
}
